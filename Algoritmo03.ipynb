{
 "cells": [
  {
   "cell_type": "markdown",
   "id": "0019036c",
   "metadata": {},
   "source": [
    "# **Algoritmo 03**\n",
    "## **Fecha:** 28/04/2025 \n",
    "## **Nombre:** Christopher Criollo"
   ]
  },
  {
   "cell_type": "code",
   "execution_count": null,
   "id": "5fa8e104",
   "metadata": {},
   "outputs": [
    {
     "name": "stdout",
     "output_type": "stream",
     "text": [
      "Cuando n = 11, y = 89\n"
     ]
    }
   ],
   "source": [
    "def Algoritmo03(n):\n",
    "    if n == 0:\n",
    "        return 0\n",
    "    else:\n",
    "        x = 0\n",
    "        y = 1\n",
    "        for i in range(1, n):\n",
    "            z = x + y\n",
    "            x = y\n",
    "            y = z\n",
    "        return y\n",
    "\n",
    "# n = 11\n",
    "n = 11\n",
    "y = Algoritmo03(n)\n",
    "print(f\"Cuando n = {n}, y = {y}\")\n"
   ]
  },
  {
   "cell_type": "markdown",
   "id": "0561b8ae",
   "metadata": {},
   "source": [
    "### **Pregunta Quizizz**"
   ]
  },
  {
   "cell_type": "code",
   "execution_count": null,
   "id": "45edd94e",
   "metadata": {},
   "outputs": [
    {
     "name": "stdout",
     "output_type": "stream",
     "text": [
      "i = 1, y_i = 1, y_2 = 1, razón = 1.0, error = 0.38196601125010515\n",
      "i = 2, y_i = 1, y_3 = 2, razón = 2.0, error = 0.23606797749978967\n",
      "i = 3, y_i = 2, y_4 = 3, razón = 1.5, error = 0.07294901687515776\n",
      "i = 4, y_i = 3, y_5 = 5, razón = 1.6666666666666667, error = 0.030056647916491423\n",
      "i = 5, y_i = 5, y_6 = 8, razón = 1.6, error = 0.01114561800016822\n",
      "i = 6, y_i = 8, y_7 = 13, razón = 1.625, error = 0.004305231718579094\n",
      "i = 7, y_i = 13, y_8 = 21, razón = 1.6153846153846154, error = 0.0016374027886314115\n",
      "i = 8, y_i = 21, y_9 = 34, razón = 1.619047619047619, error = 0.0006264579760202099\n",
      "i = 9, y_i = 34, y_10 = 55, razón = 1.6176470588235294, error = 0.0002391358457583512\n",
      "i = 10, y_i = 55, y_11 = 89, razón = 1.6181818181818182, error = 9.136361346616536e-05\n",
      "i = 11, y_i = 89, y_12 = 144, razón = 1.6179775280898876, error = 3.48946069117676e-05\n",
      "i = 12, y_i = 144, y_13 = 233, razón = 1.6180555555555556, error = 1.3329018927062451e-05\n",
      "i = 13, y_i = 233, y_14 = 377, razón = 1.6180257510729614, error = 5.091164333229031e-06\n",
      "\n",
      "Respuesta: La iteración desde la cual el error relativo es menor que 10^-5 es i = 13\n"
     ]
    }
   ],
   "source": [
    "import math\n",
    "\n",
    "# Número áureo\n",
    "phi = (1 + math.sqrt(5)) / 2\n",
    "\n",
    "# Inicializamos \n",
    "a, b = 0, 1\n",
    "iteracion = 1\n",
    "\n",
    "while True:\n",
    "    iteracion += 1\n",
    "    a, b = b, a + b\n",
    "    razon = b / a\n",
    "    error_relativo = abs((razon - phi) / phi)\n",
    "    \n",
    "    print(f\"Iteración {iteracion}: Error relativo = {error_relativo}\")\n",
    "    \n",
    "    if error_relativo <= 1e-5:\n",
    "        print(f\"La iteración desde la cual el error relativo es ≤ 10^-5 es: {iteracion}\")\n",
    "        break"
   ]
  }
 ],
 "metadata": {
  "kernelspec": {
   "display_name": "Python 3",
   "language": "python",
   "name": "python3"
  },
  "language_info": {
   "codemirror_mode": {
    "name": "ipython",
    "version": 3
   },
   "file_extension": ".py",
   "mimetype": "text/x-python",
   "name": "python",
   "nbconvert_exporter": "python",
   "pygments_lexer": "ipython3",
   "version": "3.12.10"
  }
 },
 "nbformat": 4,
 "nbformat_minor": 5
}
