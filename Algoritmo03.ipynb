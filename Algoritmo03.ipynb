{
 "cells": [
  {
   "cell_type": "markdown",
   "id": "0019036c",
   "metadata": {},
   "source": [
    "# **Algoritmo 03**\n",
    "## **Fecha:** 28/04/2025 \n",
    "## **Nombre:** Christopher Criollo"
   ]
  },
  {
   "cell_type": "code",
   "execution_count": 1,
   "id": "5fa8e104",
   "metadata": {},
   "outputs": [
    {
     "name": "stdout",
     "output_type": "stream",
     "text": [
      "Cuando n = 11, y = 89\n"
     ]
    }
   ],
   "source": [
    "def Algoritmo03(n):\n",
    "    if n == 0:\n",
    "        return 0\n",
    "    else:\n",
    "        x = 0\n",
    "        y = 1\n",
    "        for i in range(1, n):\n",
    "            z = x + y\n",
    "            x = y\n",
    "            y = z\n",
    "        return y\n",
    "\n",
    "# Prueba con n = 11\n",
    "n = 11\n",
    "y = Algoritmo03(n)\n",
    "print(f\"Cuando n = {n}, y = {y}\")\n"
   ]
  },
  {
   "cell_type": "markdown",
   "id": "0561b8ae",
   "metadata": {},
   "source": [
    "### **Pregunta Quizizz**"
   ]
  }
 ],
 "metadata": {
  "kernelspec": {
   "display_name": "Python 3",
   "language": "python",
   "name": "python3"
  },
  "language_info": {
   "codemirror_mode": {
    "name": "ipython",
    "version": 3
   },
   "file_extension": ".py",
   "mimetype": "text/x-python",
   "name": "python",
   "nbconvert_exporter": "python",
   "pygments_lexer": "ipython3",
   "version": "3.12.10"
  }
 },
 "nbformat": 4,
 "nbformat_minor": 5
}
