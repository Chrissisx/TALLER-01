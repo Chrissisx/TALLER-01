{
 "cells": [
  {
   "cell_type": "markdown",
   "id": "906b72b0",
   "metadata": {},
   "source": [
    "# **Algoritmo 01**\n",
    "## **Fecha:** 28/04/2025 \n",
    "## **Nombre:** Christopher Criollo"
   ]
  },
  {
   "cell_type": "code",
   "execution_count": 2,
   "id": "9b95f0e0",
   "metadata": {},
   "outputs": [],
   "source": [
    "# Entrada N, x_1, x_2, ..., x_N\n",
    "# Salida \n",
    "# Step 1: Sum = 0 inicia \n",
    "# Step 2: i = 1, 2, ..., N\n",
    "# Step 3: Sum = Sum + x_i\n",
    "# Step 4: Salida(Sum): pare. \n",
    "\n"
   ]
  },
  {
   "cell_type": "code",
   "execution_count": null,
   "id": "92fa6b9a",
   "metadata": {},
   "outputs": [
    {
     "ename": "NameError",
     "evalue": "name 'suma' is not defined",
     "output_type": "error",
     "traceback": [
      "\u001b[1;31m---------------------------------------------------------------------------\u001b[0m",
      "\u001b[1;31mNameError\u001b[0m                                 Traceback (most recent call last)",
      "Cell \u001b[1;32mIn[1], line 10\u001b[0m\n\u001b[0;32m      8\u001b[0m \u001b[38;5;66;03m# Iterar sobre los números y calcular la suma\u001b[39;00m\n\u001b[0;32m      9\u001b[0m \u001b[38;5;28;01mfor\u001b[39;00m i \u001b[38;5;129;01min\u001b[39;00m \u001b[38;5;28mrange\u001b[39m(N):\n\u001b[1;32m---> 10\u001b[0m     \u001b[43msuma\u001b[49m \u001b[38;5;241m+\u001b[39m\u001b[38;5;241m=\u001b[39m numeros[i]\n\u001b[0;32m     12\u001b[0m \u001b[38;5;66;03m# Mostrar la lista y la suma\u001b[39;00m\n\u001b[0;32m     13\u001b[0m \u001b[38;5;28mprint\u001b[39m(\u001b[38;5;124m\"\u001b[39m\u001b[38;5;124mLista de números:\u001b[39m\u001b[38;5;124m\"\u001b[39m, numeros)\n",
      "\u001b[1;31mNameError\u001b[0m: name 'suma' is not defined"
     ]
    }
   ],
   "source": [
    "# Lista de Numeros\n",
    "N = 5 \n",
    "numeros = [1, 2, 3, 4, 5]\n",
    "\n",
    "# Inicializar la suma\n",
    "sum = 0\n",
    "\n",
    "# Iterar sobre los números y calcular la suma\n",
    "for i in range(N):\n",
    "    sum += numeros[i]\n",
    "\n",
    "# Mostrar la lista y la suma\n",
    "print(\"Lista de números:\", numeros)\n",
    "print(\"Suma:\", sum)"
   ]
  }
 ],
 "metadata": {
  "kernelspec": {
   "display_name": "Python 3",
   "language": "python",
   "name": "python3"
  },
  "language_info": {
   "codemirror_mode": {
    "name": "ipython",
    "version": 3
   },
   "file_extension": ".py",
   "mimetype": "text/x-python",
   "name": "python",
   "nbconvert_exporter": "python",
   "pygments_lexer": "ipython3",
   "version": "3.12.10"
  }
 },
 "nbformat": 4,
 "nbformat_minor": 5
}
