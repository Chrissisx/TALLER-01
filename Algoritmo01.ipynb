{
 "cells": [
  {
   "cell_type": "markdown",
   "id": "2bca6277",
   "metadata": {},
   "source": [
    "# **Algoritmo 01**\n",
    "## **Fecha:** 28/04/2025 \n",
    "## **Nombre:** Christopher Criollo"
   ]
  },
  {
   "cell_type": "code",
   "execution_count": null,
   "id": "f661311f",
   "metadata": {},
   "outputs": [],
   "source": []
  },
  {
   "cell_type": "code",
   "execution_count": null,
   "id": "79b6f3ca",
   "metadata": {},
   "outputs": [],
   "source": []
  }
 ],
 "metadata": {
  "language_info": {
   "name": "python"
  }
 },
 "nbformat": 4,
 "nbformat_minor": 5
}
