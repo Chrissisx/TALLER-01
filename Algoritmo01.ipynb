{
 "cells": [
  {
   "cell_type": "markdown",
   "id": "2bca6277",
   "metadata": {},
   "source": [
    "# **Algoritmo 01**\n",
    "## **Fecha:** 28/04/2025 \n",
    "## **Nombre:** Christopher Criollo"
   ]
  },
  {
   "cell_type": "code",
   "execution_count": null,
   "id": "f661311f",
   "metadata": {},
   "outputs": [],
   "source": [
    "# Entrada N, x_1, x_2, ..., x_N\n",
    "# Salida \n",
    "# Step 1: Sum = 0 inicia \n",
    "# Step 2: i = 1, 2, ..., N\n",
    "# Step 3: Sum = Sum + x_i\n",
    "# Step 4: Salida(Sum): pare. "
   ]
  },
  {
   "cell_type": "code",
   "execution_count": null,
   "id": "fc026da3",
   "metadata": {},
   "outputs": [
    {
     "name": "stdout",
     "output_type": "stream",
     "text": [
      "Lista de números: [1, 2, 3, 4, 5]\n",
      "Suma: 15\n"
     ]
    }
   ],
   "source": [
    "# Lista de Numeros\n",
    "N = 5 \n",
    "numeros = [1, 2, 3, 4, 5]\n",
    "\n",
    "# Inicializar la suma\n",
    "sum = 0\n",
    "\n",
    "# Iterar sobre los números y calcular la suma\n",
    "for i in range(N):\n",
    "    sum += numeros[i]\n",
    "\n",
    "# Mostrar la lista y la suma\n",
    "print(\"Lista de números:\", numeros)\n",
    "print(\"Suma:\", sum)"
   ]
  }
 ],
 "metadata": {
  "kernelspec": {
   "display_name": "Python 3",
   "language": "python",
   "name": "python3"
  },
  "language_info": {
   "codemirror_mode": {
    "name": "ipython",
    "version": 3
   },
   "file_extension": ".py",
   "mimetype": "text/x-python",
   "name": "python",
   "nbconvert_exporter": "python",
   "pygments_lexer": "ipython3",
   "version": "3.12.10"
  }
 },
 "nbformat": 4,
 "nbformat_minor": 5
}
