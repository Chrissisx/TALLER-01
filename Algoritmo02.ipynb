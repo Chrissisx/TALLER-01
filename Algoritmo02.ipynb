{
 "cells": [
  {
   "cell_type": "markdown",
   "id": "906b72b0",
   "metadata": {},
   "source": [
    "# **Algoritmo 02**\n",
    "## **Fecha:** 28/04/2025 \n",
    "## **Nombre:** Christopher Criollo"
   ]
  },
  {
   "cell_type": "code",
   "execution_count": 6,
   "id": "9b95f0e0",
   "metadata": {},
   "outputs": [
    {
     "name": "stdout",
     "output_type": "stream",
     "text": [
      "[11, 12, 22, 25, 34, 64, 90]\n",
      "Arreglo ordenado: [11, 12, 22, 25, 34, 64, 90]\n"
     ]
    }
   ],
   "source": [
    "\n",
    "def algoritmo02(a):\n",
    "    n = len(a)\n",
    "    for i in range(n):\n",
    "        swapped = False\n",
    "        for j in range(1, n - i):\n",
    "            if a[j] < a[j - 1]:\n",
    "                a[j], a[j - 1] = a[j - 1], a[j]\n",
    "                swapped = True\n",
    "        if not swapped:\n",
    "            break\n",
    "\n",
    "# Ejemplo\n",
    "a = [64, 34, 25, 12, 22, 11, 90]\n",
    "algoritmo02(a)\n",
    "print(a)\n",
    "\n",
    "#Muestra el codigo de manera ordenada\n",
    "print(\"Arreglo ordenado:\", a)"
   ]
  },
  {
   "cell_type": "markdown",
   "id": "14b8bdbf",
   "metadata": {},
   "source": [
    "### **Pregunta Quizizz**"
   ]
  },
  {
   "cell_type": "code",
   "execution_count": 8,
   "id": "27ba67d0",
   "metadata": {},
   "outputs": [
    {
     "name": "stdout",
     "output_type": "stream",
     "text": [
      "Número de intercambios: 10\n",
      "Arreglo ordenado: [1, 2, 3, 4, 5]\n"
     ]
    }
   ],
   "source": [
    "def algoritmo02(a):\n",
    "    n = len(a)\n",
    "    contador_intercambios = 0\n",
    "    for i in range(n):\n",
    "        swapped = False\n",
    "        for j in range(1, n - i):\n",
    "            if a[j] < a[j - 1]:\n",
    "                a[j], a[j - 1] = a[j - 1], a[j]\n",
    "                swapped = True\n",
    "                contador_intercambios += 1\n",
    "        if not swapped:\n",
    "            break\n",
    "    print(\"Número de intercambios:\", contador_intercambios)\n",
    "\n",
    "# Ejemplo \n",
    "a = [5, 4, 3, 2, 1]\n",
    "algoritmo02(a)\n",
    "print(\"Arreglo ordenado:\", a)\n"
   ]
  }
 ],
 "metadata": {
  "kernelspec": {
   "display_name": "Python 3",
   "language": "python",
   "name": "python3"
  },
  "language_info": {
   "codemirror_mode": {
    "name": "ipython",
    "version": 3
   },
   "file_extension": ".py",
   "mimetype": "text/x-python",
   "name": "python",
   "nbconvert_exporter": "python",
   "pygments_lexer": "ipython3",
   "version": "3.12.10"
  }
 },
 "nbformat": 4,
 "nbformat_minor": 5
}
