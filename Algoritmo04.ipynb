{
 "cells": [
  {
   "cell_type": "markdown",
   "id": "130fae8e",
   "metadata": {},
   "source": [
    "# **Algoritmo 04**\n",
    "## **Fecha:** 28/04/2025 \n",
    "## **Nombre:** Christopher Criollo"
   ]
  },
  {
   "cell_type": "code",
   "execution_count": null,
   "id": "561b30f3",
   "metadata": {},
   "outputs": [
    {
     "name": "stdout",
     "output_type": "stream",
     "text": [
      "Resultado de la serie armónica Σ(1/n):\n",
      "Suma con 10 términos: 2.928968\n",
      "Suma con 100 términos: 5.187378\n",
      "Suma con 1000 términos: 7.485471\n",
      "Suma con 10000 términos: 9.787606\n",
      "Suma con 100000 términos: 12.090146\n",
      "Suma con 1000000 términos: 14.392727\n"
     ]
    }
   ],
   "source": [
    "def Algoritmo04(n_max):\n",
    "    \n",
    "    suma = 0\n",
    "    for n in range(1, n_max + 1):\n",
    "        suma += 1/n\n",
    "    return suma\n",
    "\n",
    "# Suma para diferentes números de términos\n",
    "n_valores = [10, 100, 1000, 10000, 100000, 1000000]\n",
    "\n",
    "print(\"Resultado de la serie armónica Σ(1/n):\")\n",
    "for n in n_valores:\n",
    "    resultado = Algoritmo04(n)\n",
    "    print(f\"Suma con {n} términos: {resultado:.6f}\")\n",
    "\n",
    "\n",
    "# El resultado de la serie armónica diverge, lo que significa que a medida que n aumenta, la suma se aproxima a infinito."
   ]
  },
  {
   "cell_type": "code",
   "execution_count": null,
   "id": "1ea4344e",
   "metadata": {},
   "outputs": [],
   "source": []
  }
 ],
 "metadata": {
  "kernelspec": {
   "display_name": "Python 3",
   "language": "python",
   "name": "python3"
  },
  "language_info": {
   "codemirror_mode": {
    "name": "ipython",
    "version": 3
   },
   "file_extension": ".py",
   "mimetype": "text/x-python",
   "name": "python",
   "nbconvert_exporter": "python",
   "pygments_lexer": "ipython3",
   "version": "3.12.10"
  }
 },
 "nbformat": 4,
 "nbformat_minor": 5
}
